{
 "cells": [
  {
   "cell_type": "markdown",
   "id": "87fabf88-5599-4a1f-a61d-c5368c420696",
   "metadata": {},
   "source": [
    "JPEG Artifact Reduction Model\n",
    "\n",
    "This project is meant to create and train a Deep Learning model in order to learn to recognize how JPEG degradation affects images, and reverse the process. This necessitates the model being generative in nature. For this purpose, I've selected a UNet architecture.\n",
    "\n",
    "The process of training will be based on the Stable Diffusion method, with some important alterations:\n",
    "    \n",
    " - Instead of gaussian noise, this model will be trained on the noise specific to JPEG degadation.\n",
    " - There will be no need for prompting as an input, so there will be no need for tokenization or autoencoder.\n",
    " - Although it will be generative, there should be no need for a scheduler to add noise."
   ]
  },
  {
   "cell_type": "code",
   "execution_count": null,
   "id": "811f7ec1-47e3-450a-8ae6-250ebde02957",
   "metadata": {},
   "outputs": [],
   "source": []
  }
 ],
 "metadata": {
  "kernelspec": {
   "display_name": "Python 3 (ipykernel)",
   "language": "python",
   "name": "python3"
  },
  "language_info": {
   "codemirror_mode": {
    "name": "ipython",
    "version": 3
   },
   "file_extension": ".py",
   "mimetype": "text/x-python",
   "name": "python",
   "nbconvert_exporter": "python",
   "pygments_lexer": "ipython3",
   "version": "3.10.13"
  }
 },
 "nbformat": 4,
 "nbformat_minor": 5
}
